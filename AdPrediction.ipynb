{
 "cells": [
  {
   "cell_type": "code",
   "execution_count": 1,
   "id": "bf65ab90",
   "metadata": {},
   "outputs": [],
   "source": [
    "import pandas as pd"
   ]
  },
  {
   "cell_type": "code",
   "execution_count": 3,
   "id": "6596b920",
   "metadata": {},
   "outputs": [],
   "source": [
    "df = pd.read_csv('adsclicking.csv')"
   ]
  },
  {
   "cell_type": "code",
   "execution_count": 4,
   "id": "fc63892b",
   "metadata": {},
   "outputs": [
    {
     "data": {
      "text/html": [
       "<div>\n",
       "<style scoped>\n",
       "    .dataframe tbody tr th:only-of-type {\n",
       "        vertical-align: middle;\n",
       "    }\n",
       "\n",
       "    .dataframe tbody tr th {\n",
       "        vertical-align: top;\n",
       "    }\n",
       "\n",
       "    .dataframe thead th {\n",
       "        text-align: right;\n",
       "    }\n",
       "</style>\n",
       "<table border=\"1\" class=\"dataframe\">\n",
       "  <thead>\n",
       "    <tr style=\"text-align: right;\">\n",
       "      <th></th>\n",
       "      <th>Unnamed: 0</th>\n",
       "      <th>Age</th>\n",
       "      <th>Gender</th>\n",
       "      <th>Income</th>\n",
       "      <th>Location</th>\n",
       "      <th>Device</th>\n",
       "      <th>Interest_Category</th>\n",
       "      <th>Time_Spent_on_Site</th>\n",
       "      <th>Number_of_Pages_Viewed</th>\n",
       "      <th>Click</th>\n",
       "    </tr>\n",
       "  </thead>\n",
       "  <tbody>\n",
       "    <tr>\n",
       "      <th>0</th>\n",
       "      <td>0</td>\n",
       "      <td>56</td>\n",
       "      <td>Male</td>\n",
       "      <td>99003</td>\n",
       "      <td>Rural</td>\n",
       "      <td>Mobile</td>\n",
       "      <td>Sports</td>\n",
       "      <td>81.979324</td>\n",
       "      <td>7</td>\n",
       "      <td>0</td>\n",
       "    </tr>\n",
       "    <tr>\n",
       "      <th>1</th>\n",
       "      <td>1</td>\n",
       "      <td>46</td>\n",
       "      <td>Male</td>\n",
       "      <td>72395</td>\n",
       "      <td>Suburban</td>\n",
       "      <td>Tablet</td>\n",
       "      <td>Sports</td>\n",
       "      <td>59.854070</td>\n",
       "      <td>3</td>\n",
       "      <td>1</td>\n",
       "    </tr>\n",
       "    <tr>\n",
       "      <th>2</th>\n",
       "      <td>2</td>\n",
       "      <td>32</td>\n",
       "      <td>Male</td>\n",
       "      <td>59758</td>\n",
       "      <td>Suburban</td>\n",
       "      <td>Tablet</td>\n",
       "      <td>Sports</td>\n",
       "      <td>78.861989</td>\n",
       "      <td>2</td>\n",
       "      <td>0</td>\n",
       "    </tr>\n",
       "    <tr>\n",
       "      <th>3</th>\n",
       "      <td>3</td>\n",
       "      <td>60</td>\n",
       "      <td>Male</td>\n",
       "      <td>74312</td>\n",
       "      <td>Urban</td>\n",
       "      <td>Tablet</td>\n",
       "      <td>Technology</td>\n",
       "      <td>9.411579</td>\n",
       "      <td>6</td>\n",
       "      <td>0</td>\n",
       "    </tr>\n",
       "    <tr>\n",
       "      <th>4</th>\n",
       "      <td>4</td>\n",
       "      <td>25</td>\n",
       "      <td>Female</td>\n",
       "      <td>88670</td>\n",
       "      <td>Suburban</td>\n",
       "      <td>Mobile</td>\n",
       "      <td>Fashion</td>\n",
       "      <td>76.468409</td>\n",
       "      <td>9</td>\n",
       "      <td>0</td>\n",
       "    </tr>\n",
       "    <tr>\n",
       "      <th>5</th>\n",
       "      <td>5</td>\n",
       "      <td>38</td>\n",
       "      <td>Female</td>\n",
       "      <td>35434</td>\n",
       "      <td>Rural</td>\n",
       "      <td>Tablet</td>\n",
       "      <td>Technology</td>\n",
       "      <td>94.455936</td>\n",
       "      <td>10</td>\n",
       "      <td>1</td>\n",
       "    </tr>\n",
       "    <tr>\n",
       "      <th>6</th>\n",
       "      <td>6</td>\n",
       "      <td>56</td>\n",
       "      <td>Male</td>\n",
       "      <td>84047</td>\n",
       "      <td>Urban</td>\n",
       "      <td>Mobile</td>\n",
       "      <td>Sports</td>\n",
       "      <td>62.541211</td>\n",
       "      <td>4</td>\n",
       "      <td>1</td>\n",
       "    </tr>\n",
       "    <tr>\n",
       "      <th>7</th>\n",
       "      <td>7</td>\n",
       "      <td>36</td>\n",
       "      <td>Male</td>\n",
       "      <td>67775</td>\n",
       "      <td>Rural</td>\n",
       "      <td>Mobile</td>\n",
       "      <td>Travel</td>\n",
       "      <td>46.114033</td>\n",
       "      <td>3</td>\n",
       "      <td>1</td>\n",
       "    </tr>\n",
       "    <tr>\n",
       "      <th>8</th>\n",
       "      <td>8</td>\n",
       "      <td>40</td>\n",
       "      <td>Male</td>\n",
       "      <td>95769</td>\n",
       "      <td>Rural</td>\n",
       "      <td>Tablet</td>\n",
       "      <td>Technology</td>\n",
       "      <td>36.904075</td>\n",
       "      <td>9</td>\n",
       "      <td>1</td>\n",
       "    </tr>\n",
       "    <tr>\n",
       "      <th>9</th>\n",
       "      <td>9</td>\n",
       "      <td>28</td>\n",
       "      <td>Male</td>\n",
       "      <td>86677</td>\n",
       "      <td>Rural</td>\n",
       "      <td>Desktop</td>\n",
       "      <td>Fashion</td>\n",
       "      <td>78.922236</td>\n",
       "      <td>17</td>\n",
       "      <td>1</td>\n",
       "    </tr>\n",
       "  </tbody>\n",
       "</table>\n",
       "</div>"
      ],
      "text/plain": [
       "   Unnamed: 0  Age  Gender  Income  Location   Device Interest_Category  \\\n",
       "0           0   56    Male   99003     Rural   Mobile            Sports   \n",
       "1           1   46    Male   72395  Suburban   Tablet            Sports   \n",
       "2           2   32    Male   59758  Suburban   Tablet            Sports   \n",
       "3           3   60    Male   74312     Urban   Tablet        Technology   \n",
       "4           4   25  Female   88670  Suburban   Mobile           Fashion   \n",
       "5           5   38  Female   35434     Rural   Tablet        Technology   \n",
       "6           6   56    Male   84047     Urban   Mobile            Sports   \n",
       "7           7   36    Male   67775     Rural   Mobile            Travel   \n",
       "8           8   40    Male   95769     Rural   Tablet        Technology   \n",
       "9           9   28    Male   86677     Rural  Desktop           Fashion   \n",
       "\n",
       "   Time_Spent_on_Site  Number_of_Pages_Viewed  Click  \n",
       "0           81.979324                       7      0  \n",
       "1           59.854070                       3      1  \n",
       "2           78.861989                       2      0  \n",
       "3            9.411579                       6      0  \n",
       "4           76.468409                       9      0  \n",
       "5           94.455936                      10      1  \n",
       "6           62.541211                       4      1  \n",
       "7           46.114033                       3      1  \n",
       "8           36.904075                       9      1  \n",
       "9           78.922236                      17      1  "
      ]
     },
     "execution_count": 4,
     "metadata": {},
     "output_type": "execute_result"
    }
   ],
   "source": [
    "df.head(10)"
   ]
  },
  {
   "cell_type": "code",
   "execution_count": 5,
   "id": "cc21d25b",
   "metadata": {},
   "outputs": [
    {
     "name": "stdout",
     "output_type": "stream",
     "text": [
      "<class 'pandas.core.frame.DataFrame'>\n",
      "RangeIndex: 2000 entries, 0 to 1999\n",
      "Data columns (total 10 columns):\n",
      " #   Column                  Non-Null Count  Dtype  \n",
      "---  ------                  --------------  -----  \n",
      " 0   Unnamed: 0              2000 non-null   int64  \n",
      " 1   Age                     2000 non-null   int64  \n",
      " 2   Gender                  2000 non-null   object \n",
      " 3   Income                  2000 non-null   int64  \n",
      " 4   Location                2000 non-null   object \n",
      " 5   Device                  2000 non-null   object \n",
      " 6   Interest_Category       2000 non-null   object \n",
      " 7   Time_Spent_on_Site      2000 non-null   float64\n",
      " 8   Number_of_Pages_Viewed  2000 non-null   int64  \n",
      " 9   Click                   2000 non-null   int64  \n",
      "dtypes: float64(1), int64(5), object(4)\n",
      "memory usage: 156.4+ KB\n"
     ]
    }
   ],
   "source": [
    "df.info()"
   ]
  },
  {
   "cell_type": "code",
   "execution_count": 6,
   "id": "8cf15170",
   "metadata": {},
   "outputs": [
    {
     "data": {
      "text/html": [
       "<div>\n",
       "<style scoped>\n",
       "    .dataframe tbody tr th:only-of-type {\n",
       "        vertical-align: middle;\n",
       "    }\n",
       "\n",
       "    .dataframe tbody tr th {\n",
       "        vertical-align: top;\n",
       "    }\n",
       "\n",
       "    .dataframe thead th {\n",
       "        text-align: right;\n",
       "    }\n",
       "</style>\n",
       "<table border=\"1\" class=\"dataframe\">\n",
       "  <thead>\n",
       "    <tr style=\"text-align: right;\">\n",
       "      <th></th>\n",
       "      <th>Unnamed: 0</th>\n",
       "      <th>Age</th>\n",
       "      <th>Income</th>\n",
       "      <th>Time_Spent_on_Site</th>\n",
       "      <th>Number_of_Pages_Viewed</th>\n",
       "      <th>Click</th>\n",
       "    </tr>\n",
       "  </thead>\n",
       "  <tbody>\n",
       "    <tr>\n",
       "      <th>count</th>\n",
       "      <td>2000.000000</td>\n",
       "      <td>2000.00000</td>\n",
       "      <td>2000.000000</td>\n",
       "      <td>2000.000000</td>\n",
       "      <td>2000.000000</td>\n",
       "      <td>2000.000000</td>\n",
       "    </tr>\n",
       "    <tr>\n",
       "      <th>mean</th>\n",
       "      <td>999.500000</td>\n",
       "      <td>41.31650</td>\n",
       "      <td>59652.978500</td>\n",
       "      <td>61.113314</td>\n",
       "      <td>10.321500</td>\n",
       "      <td>0.497000</td>\n",
       "    </tr>\n",
       "    <tr>\n",
       "      <th>std</th>\n",
       "      <td>577.494589</td>\n",
       "      <td>13.46566</td>\n",
       "      <td>23070.443915</td>\n",
       "      <td>32.518823</td>\n",
       "      <td>5.476507</td>\n",
       "      <td>0.500116</td>\n",
       "    </tr>\n",
       "    <tr>\n",
       "      <th>min</th>\n",
       "      <td>0.000000</td>\n",
       "      <td>18.00000</td>\n",
       "      <td>20112.000000</td>\n",
       "      <td>5.006075</td>\n",
       "      <td>1.000000</td>\n",
       "      <td>0.000000</td>\n",
       "    </tr>\n",
       "    <tr>\n",
       "      <th>25%</th>\n",
       "      <td>499.750000</td>\n",
       "      <td>30.00000</td>\n",
       "      <td>39873.750000</td>\n",
       "      <td>33.947635</td>\n",
       "      <td>6.000000</td>\n",
       "      <td>0.000000</td>\n",
       "    </tr>\n",
       "    <tr>\n",
       "      <th>50%</th>\n",
       "      <td>999.500000</td>\n",
       "      <td>42.00000</td>\n",
       "      <td>59050.500000</td>\n",
       "      <td>60.378894</td>\n",
       "      <td>10.000000</td>\n",
       "      <td>0.000000</td>\n",
       "    </tr>\n",
       "    <tr>\n",
       "      <th>75%</th>\n",
       "      <td>1499.250000</td>\n",
       "      <td>53.00000</td>\n",
       "      <td>79547.000000</td>\n",
       "      <td>88.321464</td>\n",
       "      <td>15.000000</td>\n",
       "      <td>1.000000</td>\n",
       "    </tr>\n",
       "    <tr>\n",
       "      <th>max</th>\n",
       "      <td>1999.000000</td>\n",
       "      <td>64.00000</td>\n",
       "      <td>99943.000000</td>\n",
       "      <td>119.840992</td>\n",
       "      <td>19.000000</td>\n",
       "      <td>1.000000</td>\n",
       "    </tr>\n",
       "  </tbody>\n",
       "</table>\n",
       "</div>"
      ],
      "text/plain": [
       "        Unnamed: 0         Age        Income  Time_Spent_on_Site  \\\n",
       "count  2000.000000  2000.00000   2000.000000         2000.000000   \n",
       "mean    999.500000    41.31650  59652.978500           61.113314   \n",
       "std     577.494589    13.46566  23070.443915           32.518823   \n",
       "min       0.000000    18.00000  20112.000000            5.006075   \n",
       "25%     499.750000    30.00000  39873.750000           33.947635   \n",
       "50%     999.500000    42.00000  59050.500000           60.378894   \n",
       "75%    1499.250000    53.00000  79547.000000           88.321464   \n",
       "max    1999.000000    64.00000  99943.000000          119.840992   \n",
       "\n",
       "       Number_of_Pages_Viewed        Click  \n",
       "count             2000.000000  2000.000000  \n",
       "mean                10.321500     0.497000  \n",
       "std                  5.476507     0.500116  \n",
       "min                  1.000000     0.000000  \n",
       "25%                  6.000000     0.000000  \n",
       "50%                 10.000000     0.000000  \n",
       "75%                 15.000000     1.000000  \n",
       "max                 19.000000     1.000000  "
      ]
     },
     "execution_count": 6,
     "metadata": {},
     "output_type": "execute_result"
    }
   ],
   "source": [
    "df.describe()"
   ]
  },
  {
   "cell_type": "code",
   "execution_count": null,
   "id": "7481afbb",
   "metadata": {
    "scrolled": true
   },
   "outputs": [],
   "source": [
    "df = df.drop(columns=[\"Unnamed: 0\", \"Time_Spent_on_Site\", \"Number_of_Pages_Viewed\"])"
   ]
  },
  {
   "cell_type": "code",
   "execution_count": 8,
   "id": "f65eb7ad",
   "metadata": {},
   "outputs": [
    {
     "data": {
      "text/html": [
       "<div>\n",
       "<style scoped>\n",
       "    .dataframe tbody tr th:only-of-type {\n",
       "        vertical-align: middle;\n",
       "    }\n",
       "\n",
       "    .dataframe tbody tr th {\n",
       "        vertical-align: top;\n",
       "    }\n",
       "\n",
       "    .dataframe thead th {\n",
       "        text-align: right;\n",
       "    }\n",
       "</style>\n",
       "<table border=\"1\" class=\"dataframe\">\n",
       "  <thead>\n",
       "    <tr style=\"text-align: right;\">\n",
       "      <th></th>\n",
       "      <th>Age</th>\n",
       "      <th>Gender</th>\n",
       "      <th>Income</th>\n",
       "      <th>Location</th>\n",
       "      <th>Device</th>\n",
       "      <th>Interest_Category</th>\n",
       "      <th>Click</th>\n",
       "    </tr>\n",
       "  </thead>\n",
       "  <tbody>\n",
       "    <tr>\n",
       "      <th>0</th>\n",
       "      <td>56</td>\n",
       "      <td>Male</td>\n",
       "      <td>99003</td>\n",
       "      <td>Rural</td>\n",
       "      <td>Mobile</td>\n",
       "      <td>Sports</td>\n",
       "      <td>0</td>\n",
       "    </tr>\n",
       "    <tr>\n",
       "      <th>1</th>\n",
       "      <td>46</td>\n",
       "      <td>Male</td>\n",
       "      <td>72395</td>\n",
       "      <td>Suburban</td>\n",
       "      <td>Tablet</td>\n",
       "      <td>Sports</td>\n",
       "      <td>1</td>\n",
       "    </tr>\n",
       "    <tr>\n",
       "      <th>2</th>\n",
       "      <td>32</td>\n",
       "      <td>Male</td>\n",
       "      <td>59758</td>\n",
       "      <td>Suburban</td>\n",
       "      <td>Tablet</td>\n",
       "      <td>Sports</td>\n",
       "      <td>0</td>\n",
       "    </tr>\n",
       "    <tr>\n",
       "      <th>3</th>\n",
       "      <td>60</td>\n",
       "      <td>Male</td>\n",
       "      <td>74312</td>\n",
       "      <td>Urban</td>\n",
       "      <td>Tablet</td>\n",
       "      <td>Technology</td>\n",
       "      <td>0</td>\n",
       "    </tr>\n",
       "    <tr>\n",
       "      <th>4</th>\n",
       "      <td>25</td>\n",
       "      <td>Female</td>\n",
       "      <td>88670</td>\n",
       "      <td>Suburban</td>\n",
       "      <td>Mobile</td>\n",
       "      <td>Fashion</td>\n",
       "      <td>0</td>\n",
       "    </tr>\n",
       "  </tbody>\n",
       "</table>\n",
       "</div>"
      ],
      "text/plain": [
       "   Age  Gender  Income  Location  Device Interest_Category  Click\n",
       "0   56    Male   99003     Rural  Mobile            Sports      0\n",
       "1   46    Male   72395  Suburban  Tablet            Sports      1\n",
       "2   32    Male   59758  Suburban  Tablet            Sports      0\n",
       "3   60    Male   74312     Urban  Tablet        Technology      0\n",
       "4   25  Female   88670  Suburban  Mobile           Fashion      0"
      ]
     },
     "execution_count": 8,
     "metadata": {},
     "output_type": "execute_result"
    }
   ],
   "source": [
    "df.head()"
   ]
  },
  {
   "cell_type": "code",
   "execution_count": 9,
   "id": "f0d58fbb",
   "metadata": {},
   "outputs": [],
   "source": [
    "#Data PreProcessing\n",
    "from sklearn.preprocessing import LabelEncoder"
   ]
  },
  {
   "cell_type": "code",
   "execution_count": 10,
   "id": "a5f22684",
   "metadata": {},
   "outputs": [],
   "source": [
    "for i in [\"Gender\",\"Location\",\"Device\", \"Interest_Category\"]:\n",
    "    df[i] = LabelEncoder().fit_transform(df[i])\n",
    "    \n",
    "df[\"Age_Group\"] = pd.cut(df[\"Age\"], bins=[0, 25, 40, 60, 100], labels=[0, 1, 2, 3])\n",
    "df[\"Income_Level\"] = pd.cut(df[\"Income\"], bins=[0, 40000, 80000, 120000, 200000], labels=[0, 1, 2, 3])"
   ]
  },
  {
   "cell_type": "code",
   "execution_count": 11,
   "id": "64992a28",
   "metadata": {},
   "outputs": [],
   "source": [
    "X = df[[\"Age\", \"Income\", \"Gender\", \"Location\", \"Device\", \"Interest_Category\"]]"
   ]
  },
  {
   "cell_type": "code",
   "execution_count": 12,
   "id": "9bfa4778",
   "metadata": {},
   "outputs": [],
   "source": [
    "y = df[\"Click\"]\n"
   ]
  },
  {
   "cell_type": "code",
   "execution_count": 16,
   "id": "7e561799",
   "metadata": {},
   "outputs": [
    {
     "data": {
      "text/html": [
       "<style>#sk-container-id-2 {color: black;}#sk-container-id-2 pre{padding: 0;}#sk-container-id-2 div.sk-toggleable {background-color: white;}#sk-container-id-2 label.sk-toggleable__label {cursor: pointer;display: block;width: 100%;margin-bottom: 0;padding: 0.3em;box-sizing: border-box;text-align: center;}#sk-container-id-2 label.sk-toggleable__label-arrow:before {content: \"▸\";float: left;margin-right: 0.25em;color: #696969;}#sk-container-id-2 label.sk-toggleable__label-arrow:hover:before {color: black;}#sk-container-id-2 div.sk-estimator:hover label.sk-toggleable__label-arrow:before {color: black;}#sk-container-id-2 div.sk-toggleable__content {max-height: 0;max-width: 0;overflow: hidden;text-align: left;background-color: #f0f8ff;}#sk-container-id-2 div.sk-toggleable__content pre {margin: 0.2em;color: black;border-radius: 0.25em;background-color: #f0f8ff;}#sk-container-id-2 input.sk-toggleable__control:checked~div.sk-toggleable__content {max-height: 200px;max-width: 100%;overflow: auto;}#sk-container-id-2 input.sk-toggleable__control:checked~label.sk-toggleable__label-arrow:before {content: \"▾\";}#sk-container-id-2 div.sk-estimator input.sk-toggleable__control:checked~label.sk-toggleable__label {background-color: #d4ebff;}#sk-container-id-2 div.sk-label input.sk-toggleable__control:checked~label.sk-toggleable__label {background-color: #d4ebff;}#sk-container-id-2 input.sk-hidden--visually {border: 0;clip: rect(1px 1px 1px 1px);clip: rect(1px, 1px, 1px, 1px);height: 1px;margin: -1px;overflow: hidden;padding: 0;position: absolute;width: 1px;}#sk-container-id-2 div.sk-estimator {font-family: monospace;background-color: #f0f8ff;border: 1px dotted black;border-radius: 0.25em;box-sizing: border-box;margin-bottom: 0.5em;}#sk-container-id-2 div.sk-estimator:hover {background-color: #d4ebff;}#sk-container-id-2 div.sk-parallel-item::after {content: \"\";width: 100%;border-bottom: 1px solid gray;flex-grow: 1;}#sk-container-id-2 div.sk-label:hover label.sk-toggleable__label {background-color: #d4ebff;}#sk-container-id-2 div.sk-serial::before {content: \"\";position: absolute;border-left: 1px solid gray;box-sizing: border-box;top: 0;bottom: 0;left: 50%;z-index: 0;}#sk-container-id-2 div.sk-serial {display: flex;flex-direction: column;align-items: center;background-color: white;padding-right: 0.2em;padding-left: 0.2em;position: relative;}#sk-container-id-2 div.sk-item {position: relative;z-index: 1;}#sk-container-id-2 div.sk-parallel {display: flex;align-items: stretch;justify-content: center;background-color: white;position: relative;}#sk-container-id-2 div.sk-item::before, #sk-container-id-2 div.sk-parallel-item::before {content: \"\";position: absolute;border-left: 1px solid gray;box-sizing: border-box;top: 0;bottom: 0;left: 50%;z-index: -1;}#sk-container-id-2 div.sk-parallel-item {display: flex;flex-direction: column;z-index: 1;position: relative;background-color: white;}#sk-container-id-2 div.sk-parallel-item:first-child::after {align-self: flex-end;width: 50%;}#sk-container-id-2 div.sk-parallel-item:last-child::after {align-self: flex-start;width: 50%;}#sk-container-id-2 div.sk-parallel-item:only-child::after {width: 0;}#sk-container-id-2 div.sk-dashed-wrapped {border: 1px dashed gray;margin: 0 0.4em 0.5em 0.4em;box-sizing: border-box;padding-bottom: 0.4em;background-color: white;}#sk-container-id-2 div.sk-label label {font-family: monospace;font-weight: bold;display: inline-block;line-height: 1.2em;}#sk-container-id-2 div.sk-label-container {text-align: center;}#sk-container-id-2 div.sk-container {/* jupyter's `normalize.less` sets `[hidden] { display: none; }` but bootstrap.min.css set `[hidden] { display: none !important; }` so we also need the `!important` here to be able to override the default hidden behavior on the sphinx rendered scikit-learn.org. See: https://github.com/scikit-learn/scikit-learn/issues/21755 */display: inline-block !important;position: relative;}#sk-container-id-2 div.sk-text-repr-fallback {display: none;}</style><div id=\"sk-container-id-2\" class=\"sk-top-container\"><div class=\"sk-text-repr-fallback\"><pre>RandomForestClassifier(class_weight=&#x27;balanced&#x27;, random_state=42)</pre><b>In a Jupyter environment, please rerun this cell to show the HTML representation or trust the notebook. <br />On GitHub, the HTML representation is unable to render, please try loading this page with nbviewer.org.</b></div><div class=\"sk-container\" hidden><div class=\"sk-item\"><div class=\"sk-estimator sk-toggleable\"><input class=\"sk-toggleable__control sk-hidden--visually\" id=\"sk-estimator-id-2\" type=\"checkbox\" checked><label for=\"sk-estimator-id-2\" class=\"sk-toggleable__label sk-toggleable__label-arrow\">RandomForestClassifier</label><div class=\"sk-toggleable__content\"><pre>RandomForestClassifier(class_weight=&#x27;balanced&#x27;, random_state=42)</pre></div></div></div></div></div>"
      ],
      "text/plain": [
       "RandomForestClassifier(class_weight='balanced', random_state=42)"
      ]
     },
     "execution_count": 16,
     "metadata": {},
     "output_type": "execute_result"
    }
   ],
   "source": [
    "from sklearn.model_selection import train_test_split\n",
    "\n",
    "X_train, X_test, y_train, y_test = train_test_split(X, y, test_size=0.2, random_state=42)\n",
    "\n",
    "from sklearn.ensemble import RandomForestClassifier\n",
    "model = RandomForestClassifier(class_weight='balanced', random_state=42)\n",
    "model.fit(X_train, y_train)"
   ]
  },
  {
   "cell_type": "code",
   "execution_count": 17,
   "id": "ff2d1a09",
   "metadata": {},
   "outputs": [
    {
     "name": "stdout",
     "output_type": "stream",
     "text": [
      "Model Accuracy: 53.75%\n",
      "\n"
     ]
    }
   ],
   "source": [
    "from sklearn.metrics import accuracy_score\n",
    "\n",
    "\n",
    "y_pred = model.predict(X_test)\n",
    "accuracy = accuracy_score(y_test, y_pred)\n",
    "\n",
    "\n",
    "print(f\"Model Accuracy: {accuracy:.2%}\\n\")"
   ]
  },
  {
   "cell_type": "code",
   "execution_count": 18,
   "id": "d6cdb21e",
   "metadata": {},
   "outputs": [
    {
     "name": "stdout",
     "output_type": "stream",
     "text": [
      "Click\n",
      "0    0.503\n",
      "1    0.497\n",
      "Name: proportion, dtype: float64\n"
     ]
    }
   ],
   "source": [
    "print(df[\"Click\"].value_counts(normalize=True))\n"
   ]
  },
  {
   "cell_type": "code",
   "execution_count": 20,
   "id": "ff2e2012",
   "metadata": {},
   "outputs": [
    {
     "name": "stdout",
     "output_type": "stream",
     "text": [
      "              precision    recall  f1-score   support\n",
      "\n",
      "           0       0.53      0.55      0.54       198\n",
      "           1       0.54      0.52      0.53       202\n",
      "\n",
      "    accuracy                           0.54       400\n",
      "   macro avg       0.54      0.54      0.54       400\n",
      "weighted avg       0.54      0.54      0.54       400\n",
      "\n"
     ]
    }
   ],
   "source": [
    "from sklearn.metrics import classification_report\n",
    "print(classification_report(y_test, y_pred))\n"
   ]
  },
  {
   "cell_type": "code",
   "execution_count": 21,
   "id": "f531dd57",
   "metadata": {},
   "outputs": [],
   "source": [
    "def bucket_age(age):\n",
    "    if age <= 25: return 0\n",
    "    elif age <= 40: return 1\n",
    "    elif age <= 60: return 2\n",
    "    else: return 3\n",
    "\n"
   ]
  },
  {
   "cell_type": "code",
   "execution_count": 22,
   "id": "7227ee0e",
   "metadata": {},
   "outputs": [],
   "source": [
    "def bucket_income(income):\n",
    "    if income <= 40000: return 0\n",
    "    elif income <= 80000: return 1\n",
    "    elif income <= 120000: return 2\n",
    "    else: return 3"
   ]
  },
  {
   "cell_type": "code",
   "execution_count": null,
   "id": "c855691c",
   "metadata": {},
   "outputs": [],
   "source": [
    "# Example: User Input\n",
    "name = \"Michelle\"\n",
    "age = 26\n",
    "income = 150000\n",
    "gender = 0       # 1 = Male, 0 = Female\n",
    "location = 1     # 1 = Urban, 0 = Rural\n",
    "device = 1       # 1 = Mobile, 0 = Desktop\n",
    "interest = 2     # Example used Technology\n"
   ]
  },
  {
   "cell_type": "code",
   "execution_count": 42,
   "id": "12185385",
   "metadata": {},
   "outputs": [],
   "source": [
    "age_group = bucket_age(age)\n",
    "income_level = bucket_income(income)"
   ]
  },
  {
   "cell_type": "code",
   "execution_count": 43,
   "id": "094266ba",
   "metadata": {},
   "outputs": [],
   "source": [
    "input_data = [[age_group, income_level, gender, location, device, interest]]"
   ]
  },
  {
   "cell_type": "code",
   "execution_count": 44,
   "id": "0a10c7fe",
   "metadata": {},
   "outputs": [
    {
     "name": "stdout",
     "output_type": "stream",
     "text": [
      "❌ Michelle is unlikely to click the ad (Probability: 49.00%)\n"
     ]
    },
    {
     "name": "stderr",
     "output_type": "stream",
     "text": [
      "/Users/nibrasaljubair/anaconda3/lib/python3.11/site-packages/sklearn/base.py:464: UserWarning: X does not have valid feature names, but RandomForestClassifier was fitted with feature names\n",
      "  warnings.warn(\n",
      "/Users/nibrasaljubair/anaconda3/lib/python3.11/site-packages/sklearn/base.py:464: UserWarning: X does not have valid feature names, but RandomForestClassifier was fitted with feature names\n",
      "  warnings.warn(\n"
     ]
    }
   ],
   "source": [
    "# Predict and output result\n",
    "click = model.predict(input_data)[0]\n",
    "prob = model.predict_proba(input_data)[0][1]\n",
    "\n",
    "if click == 1:\n",
    "    print(f\"✅ {name} is likely to CLICK the ad (Probability: {prob:.2%})\")\n",
    "else:\n",
    "    print(f\"❌ {name} is unlikely to click the ad (Probability: {prob:.2%})\")"
   ]
  },
  {
   "cell_type": "code",
   "execution_count": null,
   "id": "59b59bd3",
   "metadata": {},
   "outputs": [
    {
     "data": {
      "text/plain": [
       "['rf_model.pkl']"
      ]
     },
     "execution_count": 45,
     "metadata": {},
     "output_type": "execute_result"
    }
   ],
   "source": [
    "#Loaded the model for the API to use\n",
    "import joblib\n",
    "joblib.dump(model, \"rf_model.pkl\")\n"
   ]
  },
  {
   "cell_type": "code",
   "execution_count": null,
   "id": "103b36bc",
   "metadata": {},
   "outputs": [],
   "source": []
  }
 ],
 "metadata": {
  "kernelspec": {
   "display_name": "base",
   "language": "python",
   "name": "python3"
  },
  "language_info": {
   "codemirror_mode": {
    "name": "ipython",
    "version": 3
   },
   "file_extension": ".py",
   "mimetype": "text/x-python",
   "name": "python",
   "nbconvert_exporter": "python",
   "pygments_lexer": "ipython3",
   "version": "3.11.5"
  }
 },
 "nbformat": 4,
 "nbformat_minor": 5
}
